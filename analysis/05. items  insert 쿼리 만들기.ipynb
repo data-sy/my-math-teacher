{
 "cells": [
  {
   "cell_type": "markdown",
   "id": "84315704",
   "metadata": {},
   "source": [
    "### ㅇ 문항\n",
    "- ~문항 아이디 : 자동~\n",
    "- 문항 정답 : 문제 출력 시 정답지도 함께 출력줘야 하므로 => 1, 2, 3, 4, 5 랜덤 입력\n",
    "- 원본 이미지 경로 : 이미지 이름은 concept_id & 각각 3문제씩 (1), (2), (3)\n",
    "- 단위개념 아이디 : concept_id_list.json에 있는 단위개념 찾아서 적기"
   ]
  },
  {
   "cell_type": "code",
   "execution_count": 1,
   "id": "f39f490d",
   "metadata": {},
   "outputs": [],
   "source": [
    "import json\n",
    "import random\n",
    "\n",
    "# concept_id_list 가져오기\n",
    "json_path = './data/json/concept_id_list.json'\n",
    "with open(json_path, 'r', encoding='utf-8') as j :\n",
    "    concept_id_list = json.load(j)\n",
    "    \n",
    "file_path = \"../api/sql/insert_items.sql\"\n",
    "\n",
    "with open(file_path, \"w\") as file:\n",
    "    for i in concept_id_list :\n",
    "        for j in range(1, 4) :\n",
    "            rand_num = random.randint(1, 5)\n",
    "            image_path = f\"/images/items/personal/{i}({j})\"\n",
    "            sql = f\"INSERT INTO items(item_answer, item_image_path, concept_id) VALUES ('{rand_num}', '{image_path}', {i});\"\n",
    "            file.write(sql + \"\\n\")"
   ]
  },
  {
   "cell_type": "code",
   "execution_count": null,
   "id": "5cd548ef",
   "metadata": {},
   "outputs": [],
   "source": []
  },
  {
   "cell_type": "code",
   "execution_count": null,
   "id": "bbdab9d9",
   "metadata": {},
   "outputs": [],
   "source": []
  }
 ],
 "metadata": {
  "kernelspec": {
   "display_name": "Python 3 (ipykernel)",
   "language": "python",
   "name": "python3"
  },
  "language_info": {
   "codemirror_mode": {
    "name": "ipython",
    "version": 3
   },
   "file_extension": ".py",
   "mimetype": "text/x-python",
   "name": "python",
   "nbconvert_exporter": "python",
   "pygments_lexer": "ipython3",
   "version": "3.11.5"
  }
 },
 "nbformat": 4,
 "nbformat_minor": 5
}
