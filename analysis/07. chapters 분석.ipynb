{
 "cells": [
  {
   "cell_type": "markdown",
   "id": "b1744d90",
   "metadata": {},
   "source": [
    "### 분석 결과\n",
    "| 분석 결과 | 초등 | 중등 | 고등 |\n",
    "|----------|----------|----------|----------|\n",
    "| 학기별 대단원 개수 | x | 3 ~ 4 | 3 |\n",
    "| 학기별 중단원 개수 | 5 ~ 6  | 1 ~ 2 | 1 ~ 4 |\n",
    "| 학기별 소단원 개수 | 2~11(평균5) | 1 ~ 5 | 2 ~ 4 |\n",
    "### 화면구성\n",
    "- 화면을 가로로 4등분, 세로로 2등분\n",
    "||||행합치기|\n",
    "|------|------|------|------|\n",
    "|학교급|대단원|소단원|상세|\n",
    "|학년-학기|중단원|단위개념목록|보기|\n",
    "### 진단학습지 단위\n",
    "- 학교급-학년급-중단원"
   ]
  },
  {
   "cell_type": "code",
   "execution_count": 1,
   "id": "675174d5",
   "metadata": {},
   "outputs": [],
   "source": [
    "import json\n",
    "import pandas as pd\n",
    "pd.set_option('display.max_rows', None)\n",
    "# pd.reset_option('display.max_rows')"
   ]
  },
  {
   "cell_type": "code",
   "execution_count": 2,
   "id": "312e9b1c",
   "metadata": {},
   "outputs": [],
   "source": [
    "json_path = './data/json/chapters_list.json'\n",
    "with open(json_path, 'r', encoding='utf-8') as j :\n",
    "    chapters = json.load(j)"
   ]
  },
  {
   "cell_type": "code",
   "execution_count": 3,
   "id": "5039f940",
   "metadata": {},
   "outputs": [
    {
     "data": {
      "text/plain": [
       "{'chapter_id': 1,\n",
       " 'chapter_name': '몇일까요 (1)',\n",
       " 'school_level': '초등',\n",
       " 'grade_level': '초1',\n",
       " 'semester': '1학기',\n",
       " 'chapter_main': '',\n",
       " 'chapter_sub': '9까지의 수'}"
      ]
     },
     "execution_count": 3,
     "metadata": {},
     "output_type": "execute_result"
    }
   ],
   "source": [
    "chapters[0]"
   ]
  },
  {
   "cell_type": "code",
   "execution_count": 4,
   "id": "2e05e79a",
   "metadata": {},
   "outputs": [],
   "source": [
    "df = pd.DataFrame(chapters)"
   ]
  },
  {
   "cell_type": "code",
   "execution_count": 5,
   "id": "76a2a13f",
   "metadata": {},
   "outputs": [],
   "source": [
    "# 초, 중, 고로 나눠서 각각 분석해보자\n",
    "ele = df[df['school_level'] == '초등']\n",
    "mid = df[df['school_level'] == '중등']\n",
    "high = df[df['school_level'] == '고등']"
   ]
  },
  {
   "cell_type": "code",
   "execution_count": 6,
   "id": "c7c102dc",
   "metadata": {},
   "outputs": [
    {
     "name": "stdout",
     "output_type": "stream",
     "text": [
      "grade_level  semester  chapter_main  chapter_sub  \n",
      "초1           1학기                     50까지의 수           6\n",
      "                                     9까지의 수            6\n",
      "                                     덧셈과 뺄셈            9\n",
      "                                     비교하기              2\n",
      "                                     여러 가지 모양          2\n",
      "             2학기                     100까지의 수          4\n",
      "                                     덧셈과 뺄셈(1)         8\n",
      "                                     덧셈과 뺄셈(2)         7\n",
      "                                     덧셈과 뺄셈(3)         5\n",
      "                                     시계 보기와 규칙 찾기      5\n",
      "                                     여러 가지 모양          3\n",
      "초2           1학기                     곱셈                5\n",
      "                                     길이 재기             4\n",
      "                                     덧셈과 뺄셈           11\n",
      "                                     분류하기              4\n",
      "                                     세 자릿수             6\n",
      "                                     여러 가지 도형          7\n",
      "             2학기                     곱셈구구              9\n",
      "                                     규칙 찾기             6\n",
      "                                     길이 재기             5\n",
      "                                     네자릿수              6\n",
      "                                     시각과 시간            6\n",
      "                                     표와 그래프            4\n",
      "초3           1학기                     곱셈                5\n",
      "                                     길이와 시간            5\n",
      "                                     나눗셈               5\n",
      "                                     덧셈과 뺄셈            6\n",
      "                                     분수와 소수            8\n",
      "                                     평면도형              5\n",
      "             2학기                     곱셈                7\n",
      "                                     나눗셈               9\n",
      "                                     들이와 무게            6\n",
      "                                     분수                6\n",
      "                                     원                 4\n",
      "                                     자료의 정리            4\n",
      "초4           1학기                     각도                8\n",
      "                                     곱셈과 나눗셈           5\n",
      "                                     규칙 찾기             6\n",
      "                                     막대그래프             4\n",
      "                                     큰 수               6\n",
      "                                     평면도형의 이동          5\n",
      "             2학기                     꺾은선그래프            4\n",
      "                                     다각형               5\n",
      "                                     분수의 덧셈과 뺄셈        6\n",
      "                                     사각형               7\n",
      "                                     삼각형               5\n",
      "                                     소수의 덧셈과 뺄셈        8\n",
      "초5           1학기                     규칙과 대응            3\n",
      "                                     다각형의 둘레와 넓이       8\n",
      "                                     분수의 덧셈과 뺄셈        6\n",
      "                                     약분과 통분            6\n",
      "                                     약수와 배수            5\n",
      "                                     자연수의 혼합 계산        5\n",
      "             2학기                     분수의 곱셈            4\n",
      "                                     소수의 곱셈            7\n",
      "                                     수의 범위와 어림하기       6\n",
      "                                     직육면체              6\n",
      "                                     평균과 가능성           5\n",
      "                                     합동과 대칭            4\n",
      "초6           1학기                     각기둥과 각뿔           6\n",
      "                                     분수의 나눗셈           5\n",
      "                                     비와 비율             6\n",
      "                                     소수의 나눗셈           7\n",
      "                                     여러 가지 그래프         7\n",
      "                                     직육면체의 부피와 겉넓이     4\n",
      "             2학기                     공간과 입체            5\n",
      "                                     분수의 나눗셈           6\n",
      "                                     비례식과 비례배분         5\n",
      "                                     소수의 나눗셈           6\n",
      "                                     원기둥, 원뿔, 구        4\n",
      "                                     원의 넓이             6\n",
      "dtype: int64\n"
     ]
    }
   ],
   "source": [
    "# 초등\n",
    "# 중단원까지 그룹화\n",
    "grouped_data_ele = ele.groupby(['grade_level', 'semester', 'chapter_main', 'chapter_sub'])\n",
    "# 그룹의 사이즈 = 소단원 개수\n",
    "group_sizes_ele = grouped_data_ele.size()\n",
    "print(group_sizes_ele)"
   ]
  },
  {
   "cell_type": "code",
   "execution_count": 7,
   "id": "d01cd886",
   "metadata": {},
   "outputs": [
    {
     "name": "stdout",
     "output_type": "stream",
     "text": [
      "grade_level  semester  chapter_main     chapter_sub    \n",
      "중1           1학기       문자와식             문자의 사용과 식의 계산      4\n",
      "                                        일차방정식              3\n",
      "                       수와 연산            소인수분해              2\n",
      "                       수와연산             소인수분해              1\n",
      "                                        정수와유리수             5\n",
      "                       좌표평면과 그래프        정비례와 반비례           2\n",
      "                                        좌표평면과 그래프          2\n",
      "             2학기       기본도형             기본도형               4\n",
      "                                        작도와 합동             3\n",
      "                       통계               자료의 정리와 해석         5\n",
      "                       평면도형과 입체도형       입체도형의 성질           7\n",
      "                                        평면도형의 성질           6\n",
      "중2           1학기       식의 계산            다항식의 계산            2\n",
      "                                        단항식의 계산            2\n",
      "                       유리수와 소수          유리수와 소수            2\n",
      "                       일차방부등식과 연립일차방정식  연립일차방정식            3\n",
      "                                        일차부등식              3\n",
      "                       함수               일차함수와 그래프          3\n",
      "                                        일차함수와 일차방정식의 관계    2\n",
      "             2학기       도형의 닮음           닮음의 응용             3\n",
      "                                        도형의 닮음             2\n",
      "                       도형의 성질           사각형의 성질            2\n",
      "                                        삼각형의 성질            3\n",
      "                       피타고라스 정리         피타고라스 정리           1\n",
      "                       확률               경우의 수              1\n",
      "                                        확률의 계산             2\n",
      "중3           1학기       다항식의 곱셈과 인수분해    다항식의 곱셈            1\n",
      "                                        다항식의 인수분해          2\n",
      "                       이차방정식            이차방정식              4\n",
      "                       이차함수             이차함수와 그래프          4\n",
      "                       제곱근과 실수          근호를 포함한 식의 계산      2\n",
      "                                        제곱근과 실수            4\n",
      "             2학기       삼각비              삼각비                4\n",
      "                       원의 성질            원과 직선              2\n",
      "                                        원주각                2\n",
      "                       통계               대푯값과 산포도           1\n",
      "                                        상관관계               1\n",
      "dtype: int64\n"
     ]
    }
   ],
   "source": [
    "# 중등\n",
    "# 중단원까지 그룹화\n",
    "grouped_data_mid = mid.groupby(['grade_level', 'semester', 'chapter_main', 'chapter_sub'])\n",
    "# 그룹의 사이즈 = 소단원 개수\n",
    "group_sizes_mid = grouped_data_mid.size()\n",
    "print(group_sizes_mid)"
   ]
  },
  {
   "cell_type": "code",
   "execution_count": 8,
   "id": "48d762b3",
   "metadata": {},
   "outputs": [
    {
     "name": "stdout",
     "output_type": "stream",
     "text": [
      "grade_level  semester  chapter_main  chapter_sub \n",
      "기하           전체        공간도형          공간도형            3\n",
      "                                     공간좌표            4\n",
      "                       벡터            벡터의 연산          3\n",
      "                                     평면벡터의 성분과 내적    4\n",
      "                       이차곡선          이차곡선            3\n",
      "                                     이차곡선과 직선        3\n",
      "미적           전체        미분법           도함수의 활용         4\n",
      "                                     여러 가지 미분법       5\n",
      "                                     여러 가지 함수의 미분    5\n",
      "                       수열의 극한        급수              3\n",
      "                                     수열의극한           3\n",
      "                       적분법           여러 가지 적분법       4\n",
      "                                     정적분의 활용         4\n",
      "수1           전체        삼각함수          사인법칙과 코사인법칙     3\n",
      "                                     삼각함수의 뜻과 그래프    3\n",
      "                       수열            등차수열과 등비수열      3\n",
      "                                     수열의 합           2\n",
      "                                     수학적 귀납법         2\n",
      "                       지수함수와 로그함수    로그              2\n",
      "                                     지수              2\n",
      "                                     지수함수와 로그함수      3\n",
      "수2           전체        다항함수의 미분법     도함수의 활용         5\n",
      "                                     미분 계수와 도함수      1\n",
      "                                     미분계수와 도함수       2\n",
      "                       다항함수의 적분법     부정적분            2\n",
      "                                     정적분             2\n",
      "                                     정적분의 활용         2\n",
      "                       함수의 극한과 연속    함수의 극한          2\n",
      "                                     함수의 연속          2\n",
      "수학           상         다항식           나머지정리와 인수분해     4\n",
      "                                     다항식의 연산         3\n",
      "                       도형의 방정식       도형의 이동          2\n",
      "                                     원의 방정식          2\n",
      "                                     직선의 방정식         3\n",
      "                                     평면좌표            2\n",
      "                       방정식과 부등식      복소수와 이차방정식      4\n",
      "                                     여러가지 방정식        2\n",
      "                                     여러가지 부등식        3\n",
      "                                     이차방정식과 이차함수     3\n",
      "             하         경우의 수         순열과 조합          2\n",
      "                       집합과 명제        명제              4\n",
      "                                     집합              4\n",
      "                       함수            유리함수와 무리함수      3\n",
      "                                     함수              4\n",
      "확통           전체        경우의 수         순열과 조합          2\n",
      "                                     이항정리            1\n",
      "                       통계            통계적 추정          2\n",
      "                                     확률분포            4\n",
      "                       확률            조건부 확률          2\n",
      "                                     확률의 뜻과 활용       2\n",
      "dtype: int64\n"
     ]
    }
   ],
   "source": [
    "# 고등\n",
    "# 중단원까지 그룹화\n",
    "grouped_data_high = high.groupby(['grade_level', 'semester', 'chapter_main', 'chapter_sub'])\n",
    "# 그룹의 사이즈 = 소단원 개수\n",
    "group_sizes_high = grouped_data_high.size()\n",
    "print(group_sizes_high)"
   ]
  },
  {
   "cell_type": "code",
   "execution_count": null,
   "id": "d094c7b4",
   "metadata": {},
   "outputs": [],
   "source": []
  },
  {
   "cell_type": "code",
   "execution_count": null,
   "id": "8ae1ec06",
   "metadata": {},
   "outputs": [],
   "source": []
  }
 ],
 "metadata": {
  "kernelspec": {
   "display_name": "Python 3 (ipykernel)",
   "language": "python",
   "name": "python3"
  },
  "language_info": {
   "codemirror_mode": {
    "name": "ipython",
    "version": 3
   },
   "file_extension": ".py",
   "mimetype": "text/x-python",
   "name": "python",
   "nbconvert_exporter": "python",
   "pygments_lexer": "ipython3",
   "version": "3.11.5"
  }
 },
 "nbformat": 4,
 "nbformat_minor": 5
}
