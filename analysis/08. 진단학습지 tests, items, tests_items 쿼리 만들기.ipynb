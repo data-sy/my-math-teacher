{
 "cells": [
  {
   "cell_type": "code",
   "execution_count": 1,
   "id": "651878ed",
   "metadata": {},
   "outputs": [],
   "source": [
    "import json\n",
    "import random"
   ]
  },
  {
   "cell_type": "code",
   "execution_count": 2,
   "id": "4b9ce4e4",
   "metadata": {},
   "outputs": [],
   "source": [
    "# chapters_list.json\n",
    "json_path = './data/json/chapters_list.json'\n",
    "with open(json_path, 'r', encoding='utf-8') as j :\n",
    "    chapters = json.load(j)"
   ]
  },
  {
   "cell_type": "code",
   "execution_count": 3,
   "id": "e779ac25",
   "metadata": {
    "scrolled": true
   },
   "outputs": [
    {
     "data": {
      "text/plain": [
       "{'chapter_id': 1,\n",
       " 'chapter_name': '몇일까요 (1)',\n",
       " 'school_level': '초등',\n",
       " 'grade_level': '초1',\n",
       " 'semester': '1학기',\n",
       " 'chapter_main': '',\n",
       " 'chapter_sub': '9까지의 수'}"
      ]
     },
     "execution_count": 3,
     "metadata": {},
     "output_type": "execute_result"
    }
   ],
   "source": [
    "chapters[0]"
   ]
  },
  {
   "cell_type": "code",
   "execution_count": 4,
   "id": "a3321bdb",
   "metadata": {},
   "outputs": [],
   "source": [
    "chapter_sub_list = [chapter['chapter_sub'] for chapter in chapters]\n",
    "# 중복제거 - 이렇게 하면 셀 돌릴 때마다 내용물 순서 바뀔 수 있음\n",
    "# chapter_sub_list = list(set(chapter_sub_list))\n",
    "# len(chapter_sub_list)\n",
    "# 순서 유지하면서 중복제거하기\n",
    "from collections import OrderedDict\n",
    "chapter_sub_list = list(OrderedDict.fromkeys(chapter_sub_list))"
   ]
  },
  {
   "cell_type": "code",
   "execution_count": 5,
   "id": "78cb5df6",
   "metadata": {},
   "outputs": [
    {
     "data": {
      "text/plain": [
       "[['몇째일까요',\n",
       "  '어느 수가 더 클까요',\n",
       "  '몇일까요 (2)',\n",
       "  '몇일까요 (1)',\n",
       "  '1만큼 더 큰 수와 1만큼 더 작은 수는 무엇일까요',\n",
       "  '수의 순서를 알아볼까요'],\n",
       " '초등',\n",
       " '초1',\n",
       " '1학기']"
      ]
     },
     "execution_count": 5,
     "metadata": {},
     "output_type": "execute_result"
    }
   ],
   "source": [
    "# 키:중단원, 밸류:그에 해당하는 데이터들\n",
    "data_dic = {}\n",
    "for chapter_sub in chapter_sub_list :\n",
    "    name_list = []\n",
    "    for chapter in chapters:\n",
    "        if chapter_sub==chapter['chapter_sub']:\n",
    "            name_list.append(chapter['chapter_name'])\n",
    "            school_level = chapter['school_level']\n",
    "            grade_level = chapter['grade_level']\n",
    "            semester = chapter['semester']\n",
    "    name_list = list(set(name_list))\n",
    "    data_dic[chapter_sub]= [name_list, school_level, grade_level, semester]\n",
    "data_dic['9까지의 수']"
   ]
  },
  {
   "cell_type": "markdown",
   "id": "f3d2dd76",
   "metadata": {},
   "source": [
    "### ㅇ insert_diag_tests.sql"
   ]
  },
  {
   "cell_type": "code",
   "execution_count": 6,
   "id": "50454d0c",
   "metadata": {
    "scrolled": true
   },
   "outputs": [
    {
     "name": "stdout",
     "output_type": "stream",
     "text": [
      "SQL 문장들 insert_diag_tests.sql 파일로 저장 성공\n"
     ]
    }
   ],
   "source": [
    "# insert_diag_tests.sql\n",
    "\n",
    "file_path = \"../api/sql/insert_diag_tests.sql\"\n",
    "\n",
    "with open(file_path, \"w\", encoding='utf-8') as file:\n",
    "    for chapter_sub, value in data_dic.items() :\n",
    "        for i in range(1, 6):\n",
    "            sql = f\"INSERT INTO tests (test_name, test_comments, test_school_level, test_grade_level, test_semester) VALUES ('{chapter_sub}({i})', \\\"{value[0]}을 알고 있는지 확인할 수 있는 진단학습지입니다.\\\", '{value[1]}', '{value[2]}', '{value[3]}');\"\n",
    "            file.write(sql + \"\\n\")\n",
    "\n",
    "print(\"SQL 문장들 insert_diag_tests.sql 파일로 저장 성공\")"
   ]
  },
  {
   "cell_type": "markdown",
   "id": "0fb47f24",
   "metadata": {},
   "source": [
    "### ㅇ insert_diag_items.sql"
   ]
  },
  {
   "cell_type": "code",
   "execution_count": 7,
   "id": "60b1c8fd",
   "metadata": {},
   "outputs": [],
   "source": [
    "# concepts_list.json\n",
    "json_path = './data/json/concepts_list_v1.json'\n",
    "with open(json_path, 'r', encoding='utf-8') as j :\n",
    "    concepts = json.load(j)"
   ]
  },
  {
   "cell_type": "code",
   "execution_count": 8,
   "id": "882b4407",
   "metadata": {
    "scrolled": true
   },
   "outputs": [
    {
     "data": {
      "text/plain": [
       "{'id': 5814,\n",
       " 'name': '1부터 5까지의 수',\n",
       " 'description': '1부터 5까지의 수를 읽고 셀 수 있다.',\n",
       " 'school_level': '초등',\n",
       " 'grade_level': '초1',\n",
       " 'semester': '1학기',\n",
       " 'chapter_id': 1,\n",
       " 'chapter_main': '9까지의 수',\n",
       " 'chapter_sub': '몇일까요 (1)',\n",
       " 'chapter_subsub': '',\n",
       " 'achievement_id': 1,\n",
       " 'achievement_name': '50까지의수 개념을이해 하고, 수를 세고 읽고 쓸 수 있다.',\n",
       " 'skill_id': 8}"
      ]
     },
     "execution_count": 8,
     "metadata": {},
     "output_type": "execute_result"
    }
   ],
   "source": [
    "concepts[0]"
   ]
  },
  {
   "cell_type": "code",
   "execution_count": 9,
   "id": "63336a62",
   "metadata": {},
   "outputs": [],
   "source": [
    "# 이 데이터는 초등에 대해 main->sub으로 옮겨줘야 해\n",
    "for concept in concepts:\n",
    "    if concept['school_level']=='초등':\n",
    "        concept['chapter_sub']=concept['chapter_main']"
   ]
  },
  {
   "cell_type": "code",
   "execution_count": 10,
   "id": "2ee8a835",
   "metadata": {},
   "outputs": [],
   "source": [
    "# items, tests_items에 필요한 데이터 추출\n",
    "result_list = []\n",
    "cnt=0\n",
    "for i, chapter_sub in enumerate(chapter_sub_list):\n",
    "    num=0\n",
    "    i*=5\n",
    "    for concept in concepts:\n",
    "        if chapter_sub == concept['chapter_sub']:\n",
    "            num+=1\n",
    "            for j in range(1, 6):\n",
    "                data = {}\n",
    "                cnt+=1\n",
    "                data['item_image_path'] = f\"/images/items/diag/{i+j}({j})/{num}\"\n",
    "                data['concept_id'] = concept['id']\n",
    "                data['test_id'] = i+j\n",
    "                data['item_id'] = cnt\n",
    "                data['test_item_number'] = num\n",
    "                result_list.append(data)"
   ]
  },
  {
   "cell_type": "code",
   "execution_count": 11,
   "id": "f336f1bf",
   "metadata": {},
   "outputs": [
    {
     "data": {
      "text/plain": [
       "{'item_image_path': '/images/items/diag/1(1)/1',\n",
       " 'concept_id': 5814,\n",
       " 'test_id': 1,\n",
       " 'item_id': 1,\n",
       " 'test_item_number': 1}"
      ]
     },
     "execution_count": 11,
     "metadata": {},
     "output_type": "execute_result"
    }
   ],
   "source": [
    "result_list[0]"
   ]
  },
  {
   "cell_type": "code",
   "execution_count": 12,
   "id": "6616c191",
   "metadata": {
    "scrolled": true
   },
   "outputs": [
    {
     "data": {
      "text/plain": [
       "{'item_image_path': '/images/items/diag/715(5)/13',\n",
       " 'concept_id': 3352,\n",
       " 'test_id': 715,\n",
       " 'item_id': 8150,\n",
       " 'test_item_number': 13}"
      ]
     },
     "execution_count": 12,
     "metadata": {},
     "output_type": "execute_result"
    }
   ],
   "source": [
    "result_list[8149]"
   ]
  },
  {
   "cell_type": "code",
   "execution_count": 13,
   "id": "972a8e08",
   "metadata": {
    "scrolled": true
   },
   "outputs": [
    {
     "name": "stdout",
     "output_type": "stream",
     "text": [
      "SQL 문장들 insert_diag_items.sql 파일로 저장 성공\n"
     ]
    }
   ],
   "source": [
    "file_path = \"../api/sql/insert_diag_items.sql\"\n",
    "\n",
    "with open(file_path, \"w\") as file:\n",
    "    for data in result_list:\n",
    "        rand_num = random.randint(1, 5)\n",
    "        item_image_path = data['item_image_path']\n",
    "        concept_id = data['concept_id']\n",
    "        sql = f\"INSERT INTO items(item_answer, item_image_path, concept_id) VALUES ('{rand_num}', '{item_image_path}', {concept_id});\"\n",
    "        file.write(sql + \"\\n\")\n",
    "\n",
    "print(\"SQL 문장들 insert_diag_items.sql 파일로 저장 성공\")"
   ]
  },
  {
   "cell_type": "markdown",
   "id": "987df0ef",
   "metadata": {},
   "source": [
    "### ㅇ insert_diag_testsitems.sql"
   ]
  },
  {
   "cell_type": "code",
   "execution_count": 14,
   "id": "70a377b9",
   "metadata": {},
   "outputs": [
    {
     "name": "stdout",
     "output_type": "stream",
     "text": [
      "SQL 문장들 insert_diag_testsitems.sql 파일로 저장 성공\n"
     ]
    }
   ],
   "source": [
    "file_path = \"../api/sql/insert_diag_testsitems.sql\"\n",
    "        \n",
    "with open(file_path, \"w\") as file:\n",
    "    for data in result_list:\n",
    "        test_id = data['test_id']\n",
    "        item_id = data['item_id']\n",
    "        test_item_number = data['test_item_number']\n",
    "        sql = f\"INSERT INTO tests_items(test_id, item_id, test_item_number) VALUES ({test_id}, {item_id}, {test_item_number});\"\n",
    "        file.write(sql + \"\\n\")\n",
    "\n",
    "print(\"SQL 문장들 insert_diag_testsitems.sql 파일로 저장 성공\")"
   ]
  },
  {
   "cell_type": "code",
   "execution_count": null,
   "id": "0878a16c",
   "metadata": {},
   "outputs": [],
   "source": []
  },
  {
   "cell_type": "code",
   "execution_count": null,
   "id": "25bd0117",
   "metadata": {},
   "outputs": [],
   "source": []
  }
 ],
 "metadata": {
  "kernelspec": {
   "display_name": "Python 3 (ipykernel)",
   "language": "python",
   "name": "python3"
  },
  "language_info": {
   "codemirror_mode": {
    "name": "ipython",
    "version": 3
   },
   "file_extension": ".py",
   "mimetype": "text/x-python",
   "name": "python",
   "nbconvert_exporter": "python",
   "pygments_lexer": "ipython3",
   "version": "3.11.5"
  }
 },
 "nbformat": 4,
 "nbformat_minor": 5
}
