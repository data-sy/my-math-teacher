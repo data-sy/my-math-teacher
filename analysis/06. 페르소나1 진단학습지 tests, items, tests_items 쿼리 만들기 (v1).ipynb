{
 "cells": [
  {
   "cell_type": "markdown",
   "id": "e380a2c7",
   "metadata": {},
   "source": [
    "### 페르소나1 : 가영이\n",
    "- 고등수학 236개 중 상-166개, 하-70개\n",
    "- 고등학교 수학 상 기본문항을 통해 어떤 개념을 알고 모르는지 파악해서 필요한 중등 선수지식을 확인하고 싶음\n",
    "- 즉, 고등 상 기본개념에 대해 중단원 별로 진단학습지 출제\n",
    "  - 중단원 총 10개"
   ]
  },
  {
   "cell_type": "code",
   "execution_count": 1,
   "id": "98b15c1b",
   "metadata": {},
   "outputs": [],
   "source": [
    "import json\n",
    "import random"
   ]
  },
  {
   "cell_type": "code",
   "execution_count": 2,
   "id": "966b9568",
   "metadata": {},
   "outputs": [],
   "source": [
    "json_path = './data/json/concepts_list.json'\n",
    "with open(json_path, 'r', encoding='utf-8') as j :\n",
    "    concepts = json.load(j)"
   ]
  },
  {
   "cell_type": "code",
   "execution_count": 3,
   "id": "0cb21c92",
   "metadata": {},
   "outputs": [],
   "source": [
    "concepts_high = []\n",
    "for concept in concepts:\n",
    "    if concept['semester'] in ['상']:\n",
    "        concepts_high.append(concept)"
   ]
  },
  {
   "cell_type": "code",
   "execution_count": 4,
   "id": "da7ef00b",
   "metadata": {},
   "outputs": [
    {
     "data": {
      "text/plain": [
       "166"
      ]
     },
     "execution_count": 4,
     "metadata": {},
     "output_type": "execute_result"
    }
   ],
   "source": [
    "# 고등수학 상\n",
    "len(concepts_high)"
   ]
  },
  {
   "cell_type": "code",
   "execution_count": 5,
   "id": "2c4999a1",
   "metadata": {
    "scrolled": false
   },
   "outputs": [
    {
     "data": {
      "text/plain": [
       "['다항식의 연산',\n",
       " '나머지정리와 인수분해',\n",
       " '복소수와 이차방정식',\n",
       " '이차방정식과 이차함수',\n",
       " '여러가지 방정식',\n",
       " '여러가지 부등식',\n",
       " '평면좌표',\n",
       " '직선의 방정식',\n",
       " '원의 방정식',\n",
       " '도형의 이동']"
      ]
     },
     "execution_count": 5,
     "metadata": {},
     "output_type": "execute_result"
    }
   ],
   "source": [
    "# 중단원을 기준으로 진단학습지 만들기\n",
    "chapter_sub = []\n",
    "for concept in concepts_high:\n",
    "    sub = concept['chapter_sub']\n",
    "    if sub not in chapter_sub:\n",
    "        chapter_sub.append(sub)\n",
    "\n",
    "# 딱 10개야 => 진단학습지 10개\n",
    "chapter_sub"
   ]
  },
  {
   "cell_type": "code",
   "execution_count": 6,
   "id": "49e151bb",
   "metadata": {},
   "outputs": [
    {
     "name": "stdout",
     "output_type": "stream",
     "text": [
      "20\n",
      "18\n",
      "25\n",
      "16\n",
      "23\n",
      "22\n",
      "8\n",
      "13\n",
      "13\n",
      "8\n"
     ]
    }
   ],
   "source": [
    "data = [[] for _ in range(10)]\n",
    "\n",
    "for concept in concepts_high:\n",
    "    for i, sub in enumerate(chapter_sub):\n",
    "        if concept['chapter_sub'] == sub:\n",
    "            data[i].append(concept['id'])\n",
    "for i in data:\n",
    "    print(len(i))"
   ]
  },
  {
   "cell_type": "markdown",
   "id": "0fb47f24",
   "metadata": {},
   "source": [
    "### ㅇ insert_diag_items.sql"
   ]
  },
  {
   "cell_type": "code",
   "execution_count": 7,
   "id": "972a8e08",
   "metadata": {},
   "outputs": [],
   "source": [
    "file_path = \"../api/sql/insert_diag_items.sql\"\n",
    "\n",
    "with open(file_path, \"w\") as file:\n",
    "    for i, concept_id_list in enumerate(data) :\n",
    "        for j, concept_id in enumerate(concept_id_list):\n",
    "            rand_num = random.randint(1, 5)\n",
    "            image_path = f\"/images/items/진단학습지{i+1}_{j+1}번\"\n",
    "            sql = f\"INSERT INTO items(item_answer, item_image_path, concept_id) VALUES ('{rand_num}', '{image_path}', {concept_id});\"\n",
    "            file.write(sql + \"\\n\")\n",
    "\n",
    "print(\"SQL 문장들 insert_diag_items.sql 파일로 저장 성공\")"
   ]
  },
  {
   "cell_type": "markdown",
   "id": "ae1e3ba7",
   "metadata": {},
   "source": [
    "### ㅇ insert_diag_tests.sql => 직접 만들기"
   ]
  },
  {
   "cell_type": "markdown",
   "id": "987df0ef",
   "metadata": {},
   "source": [
    "### ㅇ insert_diag_testsitems.sql"
   ]
  },
  {
   "cell_type": "code",
   "execution_count": 8,
   "id": "70a377b9",
   "metadata": {},
   "outputs": [],
   "source": [
    "file_path = \"../api/sql/insert_diag_testsitems.sql\"\n",
    "\n",
    "num = 4894\n",
    "with open(file_path, \"w\") as file:\n",
    "    for i, concept_id_list in enumerate(data) :\n",
    "        for j, concept_id in enumerate(concept_id_list):\n",
    "            # 일반문항 1631*3=4893이후로 4894부터 해당 item_id\n",
    "            sql = f\"INSERT INTO tests_items(test_id, item_id, test_item_number) VALUES ({i+1}, {num}, {j+1});\"\n",
    "            file.write(sql + \"\\n\")\n",
    "            num+=1\n",
    "\n",
    "print(\"SQL 문장들 insert_diag_testsitems.sql 파일로 저장 성공\")"
   ]
  },
  {
   "cell_type": "code",
   "execution_count": null,
   "id": "d84779be",
   "metadata": {},
   "outputs": [],
   "source": []
  },
  {
   "cell_type": "code",
   "execution_count": null,
   "id": "9a484928",
   "metadata": {},
   "outputs": [],
   "source": []
  }
 ],
 "metadata": {
  "kernelspec": {
   "display_name": "Python 3 (ipykernel)",
   "language": "python",
   "name": "python3"
  },
  "language_info": {
   "codemirror_mode": {
    "name": "ipython",
    "version": 3
   },
   "file_extension": ".py",
   "mimetype": "text/x-python",
   "name": "python",
   "nbconvert_exporter": "python",
   "pygments_lexer": "ipython3",
   "version": "3.11.5"
  }
 },
 "nbformat": 4,
 "nbformat_minor": 5
}
