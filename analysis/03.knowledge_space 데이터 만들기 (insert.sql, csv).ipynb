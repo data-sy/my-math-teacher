{
 "cells": [
  {
   "cell_type": "code",
   "execution_count": 1,
   "id": "08464cc6",
   "metadata": {},
   "outputs": [],
   "source": [
    "import json\n",
    "import csv"
   ]
  },
  {
   "cell_type": "code",
   "execution_count": 2,
   "id": "742a0156",
   "metadata": {},
   "outputs": [],
   "source": [
    "json_path = './data/knowledge_tags.json'\n",
    "with open(json_path, 'r', encoding='utf-8') as j :\n",
    "    knowledge_space = json.load(j)"
   ]
  },
  {
   "cell_type": "markdown",
   "id": "33f22488",
   "metadata": {},
   "source": [
    "### ㅇ insert.sql로 저장"
   ]
  },
  {
   "cell_type": "code",
   "execution_count": 3,
   "id": "0b666ee4",
   "metadata": {},
   "outputs": [],
   "source": [
    "file_path = \"../api/sql/insert_knowledge_space.sql\"\n",
    "\n",
    "with open(file_path, \"w\") as file:\n",
    "    for knowledge_space_id in knowledge_space :\n",
    "        to_concept_id = knowledge_space[knowledge_space_id]['toConcept']['id']\n",
    "        from_concept_id = knowledge_space[knowledge_space_id]['fromConcept']['id']\n",
    "        sql = f\"INSERT INTO knowledge_space VALUES ({knowledge_space_id}, {to_concept_id}, {from_concept_id});\"\n",
    "        file.write(sql + \"\\n\")"
   ]
  },
  {
   "cell_type": "markdown",
   "id": "831d03c0",
   "metadata": {},
   "source": [
    "### ㅇ csv로 저장"
   ]
  },
  {
   "cell_type": "code",
   "execution_count": 4,
   "id": "8c1340b4",
   "metadata": {},
   "outputs": [
    {
     "name": "stdout",
     "output_type": "stream",
     "text": [
      "데이터가 ./data/csv/knowledge_space.csv 파일로 성공적으로 추출되었습니다.\n"
     ]
    }
   ],
   "source": [
    "# csv 파일\n",
    "\n",
    "data = []\n",
    "for knowledge_space_id in knowledge_space :\n",
    "    dic = {}\n",
    "    dic['id'] = knowledge_space_id\n",
    "    dic['to_concept_id'] = knowledge_space[knowledge_space_id]['toConcept']['id']\n",
    "    dic['from_concept_id'] = knowledge_space[knowledge_space_id]['fromConcept']['id']\n",
    "    data.append(dic)\n",
    "    \n",
    "csv_file_path = \"./data/csv/knowledge_space.csv\"\n",
    "\n",
    "with open(csv_file_path, mode='w', newline='', encoding='utf-8') as file:\n",
    "    writer = csv.DictWriter(file, fieldnames=data[0].keys())\n",
    "    \n",
    "    # 헤더 쓰기\n",
    "    writer.writeheader()\n",
    "\n",
    "    # 데이터 쓰기\n",
    "    writer.writerows(data)\n",
    "\n",
    "print(f\"데이터가 {csv_file_path} 파일로 성공적으로 추출되었습니다.\")"
   ]
  },
  {
   "cell_type": "code",
   "execution_count": null,
   "id": "42607f95",
   "metadata": {},
   "outputs": [],
   "source": []
  },
  {
   "cell_type": "code",
   "execution_count": null,
   "id": "d6770437",
   "metadata": {},
   "outputs": [],
   "source": []
  }
 ],
 "metadata": {
  "kernelspec": {
   "display_name": "Python 3 (ipykernel)",
   "language": "python",
   "name": "python3"
  },
  "language_info": {
   "codemirror_mode": {
    "name": "ipython",
    "version": 3
   },
   "file_extension": ".py",
   "mimetype": "text/x-python",
   "name": "python",
   "nbconvert_exporter": "python",
   "pygments_lexer": "ipython3",
   "version": "3.11.5"
  }
 },
 "nbformat": 4,
 "nbformat_minor": 5
}
