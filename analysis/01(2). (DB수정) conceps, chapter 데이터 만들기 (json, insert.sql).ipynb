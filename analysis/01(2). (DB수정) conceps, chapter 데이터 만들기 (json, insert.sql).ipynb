{
 "cells": [
  {
   "cell_type": "code",
   "execution_count": 1,
   "id": "e03000a9",
   "metadata": {},
   "outputs": [],
   "source": [
    "import json\n",
    "import copy\n",
    "from collections import OrderedDict"
   ]
  },
  {
   "cell_type": "code",
   "execution_count": 2,
   "id": "2ace4fa3",
   "metadata": {},
   "outputs": [],
   "source": [
    "json_path = './data/knowledge_tags.json'\n",
    "with open(json_path, 'r', encoding='utf-8') as j :\n",
    "    knowledge_tags = json.load(j)"
   ]
  },
  {
   "cell_type": "code",
   "execution_count": 3,
   "id": "2862bf73",
   "metadata": {},
   "outputs": [],
   "source": [
    "# concept을 리스트로 추출 + 중복 제거\n",
    "concepts = []\n",
    "concept_ids = []\n",
    "for knowledge_tag in knowledge_tags.values() :\n",
    "    if knowledge_tag['fromConcept']['id'] in concept_ids :\n",
    "        continue\n",
    "    concepts.append(knowledge_tag['fromConcept'])\n",
    "    concept_ids.append(knowledge_tag['fromConcept']['id'])\n",
    "for knowledge_tag in knowledge_tags.values() :\n",
    "    if knowledge_tag['toConcept']['id'] in concept_ids :\n",
    "        continue\n",
    "    concepts.append(knowledge_tag['toConcept'])\n",
    "    concept_ids.append(knowledge_tag['toConcept']['id'])"
   ]
  },
  {
   "cell_type": "code",
   "execution_count": 4,
   "id": "b8f568b4",
   "metadata": {
    "scrolled": true
   },
   "outputs": [
    {
     "data": {
      "text/plain": [
       "1631"
      ]
     },
     "execution_count": 4,
     "metadata": {},
     "output_type": "execute_result"
    }
   ],
   "source": [
    "# 1631개\n",
    "len(concept_ids)"
   ]
  },
  {
   "cell_type": "code",
   "execution_count": 5,
   "id": "4849cfd8",
   "metadata": {},
   "outputs": [],
   "source": [
    "# concept_id_list.json으로 저장\n",
    "with open('./data/json/concept_id_list.json', 'w', encoding='utf-8') as f:\n",
    "    json.dump(concept_ids, f, ensure_ascii=False)"
   ]
  },
  {
   "cell_type": "code",
   "execution_count": 6,
   "id": "ebeeb230",
   "metadata": {},
   "outputs": [],
   "source": [
    "# 퀵정렬에서 비교하는 기준을 1)chapter_id 2)acheivement_id로 설정\n",
    "def quick_sort(arr):\n",
    "    if len(arr) <= 1:\n",
    "        return arr\n",
    "    pivot = arr[len(arr) // 2]\n",
    "    left, right, equal = [], [], []\n",
    "    for i in arr:\n",
    "        if int(i['chapter']['id']) < int(pivot['chapter']['id']):\n",
    "            left.append(i)\n",
    "        elif int(i['chapter']['id']) > int(pivot['chapter']['id']):\n",
    "            right.append(i)\n",
    "        else:\n",
    "            equal.append(i)\n",
    "    # chapter_id가 같은 애들끼리 achievement_id 가지고 다시 정렬\n",
    "    quick_sort_ach(equal)\n",
    "    return quick_sort(left) + equal + quick_sort(right)\n",
    "\n",
    "def quick_sort_ach(arr):\n",
    "    if len(arr) <= 1:\n",
    "        return arr\n",
    "    pivot = arr[len(arr) // 2]\n",
    "    left, right, equal = [], [], []\n",
    "    for i in arr:\n",
    "        if int(i['achievement']['id']) < int(pivot['achievement']['id']):\n",
    "            left.append(i)\n",
    "        elif int(i['achievement']['id']) > int(pivot['achievement']['id']):\n",
    "            right.append(i)\n",
    "        else:\n",
    "            equal.append(i)\n",
    "    return quick_sort(left) + equal + quick_sort(right)"
   ]
  },
  {
   "cell_type": "code",
   "execution_count": 7,
   "id": "bdd609c1",
   "metadata": {},
   "outputs": [],
   "source": [
    "# 정렬된 concepts 리스트\n",
    "concepts_sorted = quick_sort(concepts)"
   ]
  },
  {
   "cell_type": "code",
   "execution_count": 8,
   "id": "af319443",
   "metadata": {},
   "outputs": [],
   "source": [
    "# knowledgeTag_skillID.txt 파일에서 skill_dic으로\n",
    "# (키) concept_id : (밸류) skill_id\n",
    "\n",
    "txt_path = './data/knowledgeTag_skillID.txt'\n",
    "skill_dic = {}\n",
    "with open(txt_path, \"r\") as file:\n",
    "    lines = file.readlines()\n",
    "    for line in lines:\n",
    "        data = line.strip().split('\\t')\n",
    "        skill_dic[int(data[0])] = int(data[1])"
   ]
  },
  {
   "cell_type": "markdown",
   "id": "ae2ca0b7",
   "metadata": {},
   "source": [
    "### ㅇ concept에서 chapter 삭제 안 한 버전"
   ]
  },
  {
   "cell_type": "code",
   "execution_count": 9,
   "id": "30980326",
   "metadata": {},
   "outputs": [],
   "source": [
    "# 필요한 부분 세분화 시키고, skill_id 추가\n",
    "\n",
    "concepts_neo4j = copy.deepcopy(concepts_sorted) # 내부에 딕셔너리가 있는 리스트는 .copy()나 슬라이싱[:]으로는 부족해\n",
    "\n",
    "for concept in concepts_neo4j :\n",
    "    # semester 한 번 이름 변경 후 사용하기 (순서 맞추기용)\n",
    "    concept['new_key'] = concept.pop('semester')\n",
    "    temp = concept['new_key'].split('-')\n",
    "    concept['school_level'] = temp[0].strip()\n",
    "    concept['grade_level'] = temp[1].strip()\n",
    "    concept['semester'] = temp[2].strip()\n",
    "    del concept['new_key']\n",
    "\n",
    "    concept['chapter_id'] = int(concept['chapter']['id'])\n",
    "    temp2 = concept['chapter']['name'].split('>')\n",
    "    if len(temp2)==3:\n",
    "        concept['chapter_name']=temp2[2].strip()\n",
    "        concept['chapter_main']=temp2[0].strip()\n",
    "        concept['chapter_sub']=temp2[1].strip()\n",
    "    # 초등은 대단원 없음   \n",
    "    else:\n",
    "        concept['chapter_name']=temp2[1].strip()\n",
    "        concept['chapter_main']=\"\"\n",
    "        concept['chapter_sub']=temp2[0].strip()\n",
    "    concept['achievement_id'] = int(concept['achievement']['id'])\n",
    "    concept['achievement_name'] = concept['achievement']['name']\n",
    "    del concept['chapter']\n",
    "    del concept['achievement']\n",
    "    concept['skill_id'] = skill_dic[concept['id']]"
   ]
  },
  {
   "cell_type": "code",
   "execution_count": 10,
   "id": "0aa6539a",
   "metadata": {
    "scrolled": true
   },
   "outputs": [
    {
     "data": {
      "text/plain": [
       "{'id': 5814,\n",
       " 'name': '1부터 5까지의 수',\n",
       " 'description': '1부터 5까지의 수를 읽고 셀 수 있다.',\n",
       " 'school_level': '초등',\n",
       " 'grade_level': '초1',\n",
       " 'semester': '1학기',\n",
       " 'chapter_id': 1,\n",
       " 'chapter_name': '몇일까요 (1)',\n",
       " 'chapter_main': '',\n",
       " 'chapter_sub': '9까지의 수',\n",
       " 'achievement_id': 1,\n",
       " 'achievement_name': '50까지의수 개념을이해 하고, 수를 세고 읽고 쓸 수 있다.',\n",
       " 'skill_id': 8}"
      ]
     },
     "execution_count": 10,
     "metadata": {},
     "output_type": "execute_result"
    }
   ],
   "source": [
    "# concepts_neo4j.json으로 저장\n",
    "with open('./data/json/concepts_neo4j.json', 'w', encoding='utf-8') as f:\n",
    "    json.dump(concepts_neo4j, f, ensure_ascii=False)\n",
    "concepts_neo4j[0]"
   ]
  },
  {
   "cell_type": "code",
   "execution_count": 11,
   "id": "7f764bfc",
   "metadata": {},
   "outputs": [
    {
     "data": {
      "text/plain": [
       "{'id': 5814,\n",
       " 'name': '1부터 5까지의 수',\n",
       " 'semester': '초등-초1-1학기',\n",
       " 'description': '1부터 5까지의 수를 읽고 셀 수 있다.',\n",
       " 'chapter': {'id': '1', 'name': '9까지의 수 > 몇일까요 (1)'},\n",
       " 'achievement': {'id': '1', 'name': '50까지의수 개념을이해 하고, 수를 세고 읽고 쓸 수 있다.'}}"
      ]
     },
     "execution_count": 11,
     "metadata": {},
     "output_type": "execute_result"
    }
   ],
   "source": [
    "concepts_sorted[0]"
   ]
  },
  {
   "cell_type": "markdown",
   "id": "d4186252",
   "metadata": {},
   "source": [
    "### ㅇ concept에서 chapter 추출 버전"
   ]
  },
  {
   "cell_type": "code",
   "execution_count": 12,
   "id": "ba00dd05",
   "metadata": {},
   "outputs": [],
   "source": [
    "# concepts_sort에서 \n",
    "# 1 : chapter 관련 부분 : 세분화 -> 추출 -> chapters에 담기\n",
    "# 2 : 필요없는 부분 삭제\n",
    "# 3 : skill_id 추가\n",
    "chapters = []\n",
    "\n",
    "for concept in concepts_sorted :\n",
    "    chapter = {}\n",
    "    chapter['chapter_id'] = int(concept['chapter']['id'])\n",
    "    concept['concept_chapter_id'] = int(concept['chapter']['id'])\n",
    "    temp2 = concept['chapter']['name'].split('>')\n",
    "    if len(temp2)==3:\n",
    "        chapter['chapter_name']=temp2[2].strip()\n",
    "    else:\n",
    "        chapter['chapter_name']=temp2[1].strip()\n",
    "    temp = concept['semester'].split('-')\n",
    "    chapter['school_level'] = temp[0].strip()\n",
    "    chapter['grade_level'] = temp[1].strip()\n",
    "    chapter['semester'] = temp[2].strip()\n",
    "    del concept['semester'] \n",
    "    if len(temp2)==3:\n",
    "        chapter['chapter_main']=temp2[0].strip()\n",
    "        chapter['chapter_sub']=temp2[1].strip()\n",
    "    # 초등은 대단원 없음   \n",
    "    else:\n",
    "        chapter['chapter_main']=\"\"\n",
    "        chapter['chapter_sub']=temp2[0].strip()\n",
    "    concept['achievement_id'] = int(concept['achievement']['id'])\n",
    "    concept['achievement_name'] = concept['achievement']['name']\n",
    "    del concept['chapter']\n",
    "    del concept['achievement']\n",
    "    concept['skill_id'] = skill_dic[concept['id']]\n",
    "    chapters.append(chapter)"
   ]
  },
  {
   "cell_type": "code",
   "execution_count": 13,
   "id": "545f1a72",
   "metadata": {
    "scrolled": true
   },
   "outputs": [
    {
     "data": {
      "text/plain": [
       "{'id': 5814,\n",
       " 'name': '1부터 5까지의 수',\n",
       " 'description': '1부터 5까지의 수를 읽고 셀 수 있다.',\n",
       " 'concept_chapter_id': 1,\n",
       " 'achievement_id': 1,\n",
       " 'achievement_name': '50까지의수 개념을이해 하고, 수를 세고 읽고 쓸 수 있다.',\n",
       " 'skill_id': 8}"
      ]
     },
     "execution_count": 13,
     "metadata": {},
     "output_type": "execute_result"
    }
   ],
   "source": [
    "concepts_sorted[0]"
   ]
  },
  {
   "cell_type": "code",
   "execution_count": 14,
   "id": "abfd1bc4",
   "metadata": {},
   "outputs": [
    {
     "data": {
      "text/plain": [
       "{'chapter_id': 1,\n",
       " 'chapter_name': '몇일까요 (1)',\n",
       " 'school_level': '초등',\n",
       " 'grade_level': '초1',\n",
       " 'semester': '1학기',\n",
       " 'chapter_main': '',\n",
       " 'chapter_sub': '9까지의 수'}"
      ]
     },
     "execution_count": 14,
     "metadata": {},
     "output_type": "execute_result"
    }
   ],
   "source": [
    "chapters[0]"
   ]
  },
  {
   "cell_type": "code",
   "execution_count": 15,
   "id": "0fb0696c",
   "metadata": {},
   "outputs": [],
   "source": [
    "# chapters 중복 제거\n",
    "chapters_unique = [dict(t) for t in {tuple(chapter.items()) for chapter in chapters}]"
   ]
  },
  {
   "cell_type": "code",
   "execution_count": 16,
   "id": "4511280a",
   "metadata": {},
   "outputs": [
    {
     "data": {
      "text/plain": [
       "647"
      ]
     },
     "execution_count": 16,
     "metadata": {},
     "output_type": "execute_result"
    }
   ],
   "source": [
    "len(chapters_unique)"
   ]
  },
  {
   "cell_type": "code",
   "execution_count": 17,
   "id": "8e3005e4",
   "metadata": {},
   "outputs": [
    {
     "data": {
      "text/plain": [
       "647"
      ]
     },
     "execution_count": 17,
     "metadata": {},
     "output_type": "execute_result"
    }
   ],
   "source": [
    "chapter_ids = []\n",
    "for chapter in chapters:\n",
    "    chapter_ids.append(chapter['chapter_id'])\n",
    "# chapter_ids_unigue = list(set(chapter_ids))\n",
    "# 순서 유지하면서 중복제거하기\n",
    "chapter_ids_unigue = list(OrderedDict.fromkeys(chapter_ids))\n",
    "len(chapter_ids_unigue)"
   ]
  },
  {
   "cell_type": "code",
   "execution_count": 18,
   "id": "37f0e1c6",
   "metadata": {},
   "outputs": [],
   "source": [
    "### 중복되는 데이터 확인해서 원본 파일 수정함"
   ]
  },
  {
   "cell_type": "code",
   "execution_count": 19,
   "id": "7a89d578",
   "metadata": {},
   "outputs": [],
   "source": [
    "# concept_id는 같은데 내용은 다른 데이터가 있나봐. 확인해보자\n",
    "duple_list = []\n",
    "for chapter01 in chapters_unique:\n",
    "    check = []\n",
    "    for chapter02 in chapters_unique:\n",
    "        if chapter01['chapter_id']==chapter02['chapter_id']:\n",
    "            check.append(chapter01)\n",
    "            check.append(chapter02)\n",
    "    if check !=[] :\n",
    "        duple_list.append(check)"
   ]
  },
  {
   "cell_type": "code",
   "execution_count": 20,
   "id": "ae81afe7",
   "metadata": {},
   "outputs": [],
   "source": [
    "for i, duple in enumerate(duple_list):\n",
    "    if duple[0]!=duple[1]:\n",
    "        print(i)"
   ]
  },
  {
   "cell_type": "code",
   "execution_count": 21,
   "id": "f0c2a30d",
   "metadata": {},
   "outputs": [],
   "source": [
    "# 확인해보니 띄어쓰기의 문제야\n",
    "# 각각 확인해서 원본 파일 수정함\n",
    "# duple_list[654]"
   ]
  },
  {
   "cell_type": "code",
   "execution_count": 22,
   "id": "54d541cb",
   "metadata": {},
   "outputs": [
    {
     "data": {
      "text/plain": [
       "647"
      ]
     },
     "execution_count": 22,
     "metadata": {},
     "output_type": "execute_result"
    }
   ],
   "source": [
    "# 그러면 그냥 유니크 아이디 돌려서 처음 만나는 데이터만 추출해도 돼!!\n",
    "chapters_unique2 = []\n",
    "for chapter_id in chapter_ids_unigue:\n",
    "    for chapter in chapters:\n",
    "        if chapter['chapter_id']==chapter_id:\n",
    "            chapters_unique2.append(chapter)\n",
    "            break\n",
    "len(chapters_unique2)"
   ]
  },
  {
   "cell_type": "code",
   "execution_count": 23,
   "id": "29690b75",
   "metadata": {},
   "outputs": [
    {
     "data": {
      "text/plain": [
       "{'chapter_id': 1,\n",
       " 'chapter_name': '몇일까요 (1)',\n",
       " 'school_level': '초등',\n",
       " 'grade_level': '초1',\n",
       " 'semester': '1학기',\n",
       " 'chapter_main': '',\n",
       " 'chapter_sub': '9까지의 수'}"
      ]
     },
     "execution_count": 23,
     "metadata": {},
     "output_type": "execute_result"
    }
   ],
   "source": [
    "chapters_unique2[0]"
   ]
  },
  {
   "cell_type": "markdown",
   "id": "bbe12f0b",
   "metadata": {},
   "source": [
    "### ㅇ concepts_list.json으로 저장"
   ]
  },
  {
   "cell_type": "code",
   "execution_count": 24,
   "id": "f87bf301",
   "metadata": {
    "scrolled": true
   },
   "outputs": [
    {
     "data": {
      "text/plain": [
       "{'id': 5814,\n",
       " 'name': '1부터 5까지의 수',\n",
       " 'description': '1부터 5까지의 수를 읽고 셀 수 있다.',\n",
       " 'concept_chapter_id': 1,\n",
       " 'achievement_id': 1,\n",
       " 'achievement_name': '50까지의수 개념을이해 하고, 수를 세고 읽고 쓸 수 있다.',\n",
       " 'skill_id': 8}"
      ]
     },
     "execution_count": 24,
     "metadata": {},
     "output_type": "execute_result"
    }
   ],
   "source": [
    "# concepts_list.json으로 저장\n",
    "with open('./data/json/concepts_list.json', 'w', encoding='utf-8') as f:\n",
    "    json.dump(concepts_sorted, f, ensure_ascii=False)\n",
    "concepts_sorted[0]"
   ]
  },
  {
   "cell_type": "markdown",
   "id": "b1c5b3a4",
   "metadata": {},
   "source": [
    "### ㅇ chapters_list.json으로 저장"
   ]
  },
  {
   "cell_type": "code",
   "execution_count": 25,
   "id": "af6c93ea",
   "metadata": {},
   "outputs": [
    {
     "data": {
      "text/plain": [
       "{'chapter_id': 1,\n",
       " 'chapter_name': '몇일까요 (1)',\n",
       " 'school_level': '초등',\n",
       " 'grade_level': '초1',\n",
       " 'semester': '1학기',\n",
       " 'chapter_main': '',\n",
       " 'chapter_sub': '9까지의 수'}"
      ]
     },
     "execution_count": 25,
     "metadata": {},
     "output_type": "execute_result"
    }
   ],
   "source": [
    "# chapters_list.json으로 저장\n",
    "with open('./data/json/chapters_list.json', 'w', encoding='utf-8') as f:\n",
    "    json.dump(chapters_unique2, f, ensure_ascii=False)\n",
    "chapters_unique2[0]"
   ]
  },
  {
   "cell_type": "markdown",
   "id": "6d34d669",
   "metadata": {},
   "source": [
    "### ㅇ insert.sql로 저장"
   ]
  },
  {
   "cell_type": "code",
   "execution_count": 26,
   "id": "d6ffcdbb",
   "metadata": {},
   "outputs": [
    {
     "name": "stdout",
     "output_type": "stream",
     "text": [
      "SQL 문장들 insert_chapters.sql 파일로 저장 성공\n"
     ]
    }
   ],
   "source": [
    "# insert_chapters.sql\n",
    "\n",
    "file_path = \"../api/sql/insert_chapters.sql\"\n",
    "\n",
    "with open(file_path, \"w\", encoding='utf-8') as file:\n",
    "    for chapter in chapters_unique2 :\n",
    "        chapter_id = chapter['chapter_id']\n",
    "        chapter_name = chapter['chapter_name']\n",
    "        school_level = chapter['school_level']\n",
    "        grade_level = chapter['grade_level']\n",
    "        semester = chapter['semester']\n",
    "        chapter_main = chapter['chapter_main']\n",
    "        chapter_sub = chapter['chapter_sub']\n",
    "        sql = f\"INSERT INTO chapters VALUES ({chapter_id}, '{chapter_name}', '{school_level}', '{grade_level}', '{semester}', '{chapter_main}', '{chapter_sub}');\"\n",
    "        file.write(sql + \"\\n\")\n",
    "\n",
    "print(\"SQL 문장들 insert_chapters.sql 파일로 저장 성공\")"
   ]
  },
  {
   "cell_type": "code",
   "execution_count": 27,
   "id": "b976dc21",
   "metadata": {},
   "outputs": [
    {
     "name": "stdout",
     "output_type": "stream",
     "text": [
      "SQL 문장들 insert_concepts.sql 파일로 저장 성공\n"
     ]
    }
   ],
   "source": [
    "# insert_concepts.sql\n",
    "\n",
    "file_path = \"../api/sql/insert_concepts.sql\"\n",
    "\n",
    "with open(file_path, \"w\", encoding='utf-8') as file:\n",
    "    for concept in concepts_sorted :\n",
    "        concept_id = concept['id']\n",
    "        concept_name = concept['name']\n",
    "        description = concept['description']\n",
    "        concept_chapter_id = concept['concept_chapter_id']\n",
    "        achievement_id = concept['achievement_id']\n",
    "        achievement_name = concept['achievement_name']\n",
    "        skill_id = concept['skill_id']\n",
    "        sql = f\"INSERT INTO concepts VALUES ({concept_id}, '{concept_name}', '{description}', {concept_chapter_id}, {achievement_id}, '{achievement_name}', {skill_id});\"\n",
    "        file.write(sql + \"\\n\")\n",
    "\n",
    "print(\"SQL 문장들 insert_concepts.sql 파일로 저장 성공\")"
   ]
  },
  {
   "cell_type": "markdown",
   "id": "dedac924",
   "metadata": {},
   "source": [
    "### ㅇ dic으로 저장"
   ]
  },
  {
   "cell_type": "code",
   "execution_count": 28,
   "id": "f6ae8d04",
   "metadata": {
    "scrolled": true
   },
   "outputs": [
    {
     "data": {
      "text/plain": [
       "{'name': '1부터 5까지의 수',\n",
       " 'description': '1부터 5까지의 수를 읽고 셀 수 있다.',\n",
       " 'concept_chapter_id': 1,\n",
       " 'achievement_id': 1,\n",
       " 'achievement_name': '50까지의수 개념을이해 하고, 수를 세고 읽고 쓸 수 있다.',\n",
       " 'skill_id': 8}"
      ]
     },
     "execution_count": 28,
     "metadata": {},
     "output_type": "execute_result"
    }
   ],
   "source": [
    "# dic으로 저장\n",
    "concepts_dict = {}\n",
    "for concept in concepts_sorted :\n",
    "    concepts_dict[concept.pop('id')] = concept\n",
    "    \n",
    "with open('./data/json/concepts_dict.json', 'w', encoding='utf-8') as f:\n",
    "    json.dump(concepts_dict, f, ensure_ascii=False)\n",
    "\n",
    "concepts_dict[5814]"
   ]
  },
  {
   "cell_type": "code",
   "execution_count": null,
   "id": "a9707355",
   "metadata": {},
   "outputs": [],
   "source": []
  },
  {
   "cell_type": "code",
   "execution_count": null,
   "id": "3cf1893d",
   "metadata": {},
   "outputs": [],
   "source": []
  }
 ],
 "metadata": {
  "kernelspec": {
   "display_name": "Python 3 (ipykernel)",
   "language": "python",
   "name": "python3"
  },
  "language_info": {
   "codemirror_mode": {
    "name": "ipython",
    "version": 3
   },
   "file_extension": ".py",
   "mimetype": "text/x-python",
   "name": "python",
   "nbconvert_exporter": "python",
   "pygments_lexer": "ipython3",
   "version": "3.11.5"
  }
 },
 "nbformat": 4,
 "nbformat_minor": 5
}
