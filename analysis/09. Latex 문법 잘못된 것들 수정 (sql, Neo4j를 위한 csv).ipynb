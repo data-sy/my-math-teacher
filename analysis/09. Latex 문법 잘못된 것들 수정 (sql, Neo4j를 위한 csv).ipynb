{
 "cells": [
  {
   "cell_type": "markdown",
   "id": "781ecf2e",
   "metadata": {},
   "source": [
    "- 01(2)에서 추출한 concepts_dict 파일을 바탕으로\n",
    "  - 이 파일에서 Latex 문법 잘못된 것 찾아서 고침 => concepts_dict_latex"
   ]
  },
  {
   "cell_type": "markdown",
   "id": "26430c1a",
   "metadata": {},
   "source": [
    "## sql"
   ]
  },
  {
   "cell_type": "code",
   "execution_count": 1,
   "id": "585646a9",
   "metadata": {},
   "outputs": [],
   "source": [
    "import json"
   ]
  },
  {
   "cell_type": "code",
   "execution_count": 2,
   "id": "4c4c15a8",
   "metadata": {},
   "outputs": [],
   "source": [
    "json_path = './data/json/concepts_dict_latex.json'\n",
    "with open(json_path, 'r', encoding='utf-8') as j :\n",
    "    concepts_dict_latex = json.load(j)"
   ]
  },
  {
   "cell_type": "code",
   "execution_count": 3,
   "id": "236a986b",
   "metadata": {},
   "outputs": [
    {
     "name": "stdout",
     "output_type": "stream",
     "text": [
      "SQL 문장들 insert_concepts_latex.sql 파일로 저장 성공\n"
     ]
    }
   ],
   "source": [
    "# insert_concepts.sql\n",
    "\n",
    "file_path = \"../api/sql/insert_concepts_latex.sql\"\n",
    "\n",
    "with open(file_path, \"w\", encoding='utf-8') as file:\n",
    "    for concept_id, concept in concepts_dict_latex.items() :\n",
    "        concept_name = concept['name']\n",
    "        description = concept['description']\n",
    "        concept_chapter_id = concept['concept_chapter_id']\n",
    "        achievement_id = concept['achievement_id']\n",
    "        achievement_name = concept['achievement_name']\n",
    "        skill_id = concept['skill_id']\n",
    "        sql = f\"INSERT INTO concepts VALUES ({concept_id}, '{concept_name}', '{description}', {concept_chapter_id}, {achievement_id}, '{achievement_name}', {skill_id});\"\n",
    "        file.write(sql + \"\\n\")\n",
    "\n",
    "print(\"SQL 문장들 insert_concepts_latex.sql 파일로 저장 성공\")"
   ]
  },
  {
   "cell_type": "markdown",
   "id": "bbb46165",
   "metadata": {},
   "source": [
    "## csv"
   ]
  },
  {
   "cell_type": "code",
   "execution_count": 4,
   "id": "714096c3",
   "metadata": {},
   "outputs": [],
   "source": [
    "import csv"
   ]
  },
  {
   "cell_type": "code",
   "execution_count": 5,
   "id": "5143b619",
   "metadata": {},
   "outputs": [],
   "source": [
    "# 각 영역에 해당하는 단위개념의 achievement_id\n",
    "# 01 수와 연산\n",
    "sec01 = [1, 2, 3, 4, 5, 6, 7, 8, 9, 10, 11, 12, 13, 14, 15, 16, 17, 18, 19, 20, 21, 22, 23, 24, 25, 28, 29, 31, 43, 45, 46, 47, 48, 49, 51, 52, 53, 54, 56, 57, 58, 59, 60, 61, 62, 63, 64, 65, 66, 67, 68, 69, 70, 71, 72, 73, 74, 75, 76, 77, 78, 32, 33, 34, 35, 36, 37, 38, 39, 40, 41, 105, 314, 315, 316, 317, 318]\n",
    "# 02 문자와 식\n",
    "sec02 = [50, 87, 390, 391, 94, 95, 96, 97, 88, 392, 393, 98, 99, 100, 101, 102, 89, 90, 103, 104, 86, 89, 91, 92, 93, 94, 96, 98, 99, 101, 102, 103, 105, 106, 107, 108, 109, 112, 113, 114, 115, 116, 204, 389, 205, 206, 207, 208, 209, 342, 369, 212, 213, 214, 215, 221, 222, 229]\n",
    "# 03 규칙성, 함수\n",
    "sec03 = [117, 118, 119, 120, 121, 122, 123, 124, 125, 126, 128, 127, 128, 129, 130, 131, 132, 133, 134, 135, 136, 109, 110, 111, 135, 116, 211, 136, 137, 138, 139, 140, 141, 314, 315, 316, 317, 318, 319, 320, 321, 322, 323, 326, 327, 328]\n",
    "# 04 도형, 기하\n",
    "sec04 = [142, 143, 144, 145, 146, 147, 148, 149, 150, 151, 152, 153, 154, 155, 156, 157, 158, 159, 160, 161, 162, 163, 164, 165, 166, 185, 186, 187, 188, 189, 190, 191, 192, 193, 194, 195, 196, 197, 200, 254, 255, 256, 257, 258, 259, 260, 261, 262, 263, 264, 265, 267, 268, 269, 400, 167, 168, 169, 170, 171, 172, 173, 198, 199, 200, 170, 174, 175, 176, 177, 178, 179, 180, 181, 182, 183, 184, 201, 202, 203, 204, 205, 206, 207, 208, 209, 183, 210, 211, 212, 213, 214, 215, 216, 217, 218, 219, 221, 222, 223, 224, 225, 226, 227, 228, 229, 324, 325, 326, 327, 328, 338, 348, 358, 359, 360, 367, 375, 377, 378]\n",
    "# 05 자료, 가능성, 확률과 통계\n",
    "sec05 = [280, 281, 282, 292, 293, 294, 295, 296, 297, 298, 300, 301, 302, 303, 283, 284, 304, 306, 272, 273, 274, 275, 276, 278, 279, 283, 284, 286, 287, 288, 289, 290, 291, 307, 308, 309, 310, 311, 312, 313]\n",
    "# 06 측정\n",
    "sec06 = [230, 231, 232, 233, 234, 235, 237, 238, 239, 240, 241, 242, 243, 244, 245, 246, 247, 248, 249, 250, 251, 253, 270, 271, 117, 343, 349, 370, 379]\n",
    "# 07 집합과 명제\n",
    "sec07 = [79, 80, 81, 82, 83, 84, 86, 388, 223]\n",
    "# 08 수열\n",
    "sec08 = [350, 351, 352, 353, 354, 355, 380, 381, 382, 383, 384, 385, 386, 387, 388 ]\n",
    "# 09 미분과 적분 (함수의 극한, 연속은 여기로)\n",
    "sec09 = [329, 330, 331, 332, 333, 334, 335, 336, 337, 338, 339, 340, 341, 342, 343, 344, 345, 346, 347, 348, 349, 356, 357, 358, 359, 360, 361, 362, 363, 364, 365, 366, 367, 368, 369, 370, 371, 372, 373, 374, 375, 376, 377, 378,  379]"
   ]
  },
  {
   "cell_type": "code",
   "execution_count": 6,
   "id": "bc1e506f",
   "metadata": {},
   "outputs": [],
   "source": [
    "json_path = './data/json/chapters_list.json'\n",
    "with open(json_path, 'r', encoding='utf-8') as j :\n",
    "    chapters_list = json.load(j)"
   ]
  },
  {
   "cell_type": "code",
   "execution_count": 7,
   "id": "6f6410a6",
   "metadata": {},
   "outputs": [
    {
     "name": "stdout",
     "output_type": "stream",
     "text": [
      "{'id': '5814', 'name': '1부터 5까지의 수', 'description': '1부터 5까지의 수를 읽고 셀 수 있다.', 'school_level': '초등', 'grade_level': '초1', 'semester': '1학기', 'chapter_id': 1, 'chapter_name': '몇일까요 (1)', 'chapter_main': '', 'chapter_sub': '9까지의 수', 'achievement_id': 1, 'achievement_name': '50까지의수 개념을이해 하고, 수를 세고 읽고 쓸 수 있다.', 'skill_id': 8}\n",
      "1631\n"
     ]
    }
   ],
   "source": [
    "concepts_neo4j = []\n",
    "for concept_id, concept in concepts_dict_latex.items():\n",
    "    for chapter in chapters_list:\n",
    "        if concept['concept_chapter_id'] == chapter['chapter_id']:\n",
    "            concept_neo4j = {}\n",
    "            concept_neo4j['id'] = concept_id\n",
    "            concept_neo4j['name'] = concept['name']\n",
    "            concept_neo4j['description'] = concept['description']\n",
    "            concept_neo4j['school_level'] = chapter['school_level']\n",
    "            concept_neo4j['grade_level'] = chapter['grade_level']\n",
    "            concept_neo4j['semester'] = chapter['semester']\n",
    "            concept_neo4j['chapter_id'] = chapter['chapter_id']\n",
    "            concept_neo4j['chapter_name'] = chapter['chapter_name']\n",
    "            concept_neo4j['chapter_main'] = chapter['chapter_main']\n",
    "            concept_neo4j['chapter_sub'] = chapter['chapter_sub']\n",
    "            concept_neo4j['achievement_id'] = concept['achievement_id']\n",
    "            concept_neo4j['achievement_name'] = concept['achievement_name']\n",
    "            concept_neo4j['skill_id'] = concept['skill_id']\n",
    "            concepts_neo4j.append(concept_neo4j)\n",
    "print(concepts_neo4j[0])\n",
    "print(len(concepts_neo4j))"
   ]
  },
  {
   "cell_type": "code",
   "execution_count": 8,
   "id": "8720145e",
   "metadata": {},
   "outputs": [
    {
     "name": "stdout",
     "output_type": "stream",
     "text": [
      "데이터가 ./data/csv/concepts.csv 파일로 성공적으로 추출되었습니다.\n"
     ]
    }
   ],
   "source": [
    "for concept in concepts_neo4j:\n",
    "    concept['section'] = []\n",
    "    if concept['achievement_id'] in sec01:\n",
    "        concept['section'].append('수와 연산')\n",
    "    if concept['achievement_id'] in sec02:\n",
    "        concept['section'].append('문자와 식')\n",
    "    if concept['achievement_id'] in sec03:\n",
    "        concept['section'].append('규칙성, 함수')\n",
    "    if concept['achievement_id'] in sec04:\n",
    "        concept['section'].append('도형, 기하')\n",
    "    if concept['achievement_id'] in sec05:\n",
    "        concept['section'].append('자료, 가능성, 확률과 통계')\n",
    "    if concept['achievement_id'] in sec06:\n",
    "        concept['section'].append('측정')\n",
    "    if concept['achievement_id'] in sec07:\n",
    "        concept['section'].append('집합과 명제')\n",
    "    if concept['achievement_id'] in sec08:\n",
    "        concept['section'].append('수열')\n",
    "    if concept['achievement_id'] in sec09:\n",
    "        concept['section'].append('미분과 적분')\n",
    "\n",
    "concepts_data = {'concepts': concepts_neo4j }\n",
    "\n",
    "for key, value in concepts_data.items() :\n",
    "    # CSV 파일로 데이터 쓰기\n",
    "    csv_file_path = \"./data/csv/\"+key+\".csv\"\n",
    "\n",
    "    with open(csv_file_path, mode='w', newline='', encoding='utf-8') as file:\n",
    "        writer = csv.DictWriter(file, fieldnames=value[0].keys())\n",
    "        # 헤더 쓰기\n",
    "        writer.writeheader()\n",
    "        # 데이터 쓰기\n",
    "        writer.writerows(value)\n",
    "\n",
    "    print(f\"데이터가 {csv_file_path} 파일로 성공적으로 추출되었습니다.\")"
   ]
  },
  {
   "cell_type": "code",
   "execution_count": null,
   "id": "72b96ccb",
   "metadata": {},
   "outputs": [],
   "source": []
  }
 ],
 "metadata": {
  "kernelspec": {
   "display_name": "Python 3 (ipykernel)",
   "language": "python",
   "name": "python3"
  },
  "language_info": {
   "codemirror_mode": {
    "name": "ipython",
    "version": 3
   },
   "file_extension": ".py",
   "mimetype": "text/x-python",
   "name": "python",
   "nbconvert_exporter": "python",
   "pygments_lexer": "ipython3",
   "version": "3.11.5"
  }
 },
 "nbformat": 4,
 "nbformat_minor": 5
}
