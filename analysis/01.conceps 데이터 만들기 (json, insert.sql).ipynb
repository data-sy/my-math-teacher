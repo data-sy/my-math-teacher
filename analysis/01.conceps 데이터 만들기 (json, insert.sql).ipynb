{
 "cells": [
  {
   "cell_type": "code",
   "execution_count": 1,
   "id": "e03000a9",
   "metadata": {},
   "outputs": [],
   "source": [
    "import json"
   ]
  },
  {
   "cell_type": "code",
   "execution_count": 2,
   "id": "2ace4fa3",
   "metadata": {},
   "outputs": [],
   "source": [
    "json_path = './data/knowledge_tags.json'\n",
    "with open(json_path, 'r', encoding='utf-8') as j :\n",
    "    knowledge_tags = json.load(j)"
   ]
  },
  {
   "cell_type": "code",
   "execution_count": 3,
   "id": "2862bf73",
   "metadata": {},
   "outputs": [],
   "source": [
    "# concept을 리스트로 추출 + 중복 제거\n",
    "concepts = []\n",
    "concept_ids = []\n",
    "for knowledge_tag in knowledge_tags.values() :\n",
    "    if knowledge_tag['fromConcept']['id'] in concept_ids :\n",
    "        continue\n",
    "    concepts.append(knowledge_tag['fromConcept'])\n",
    "    concept_ids.append(knowledge_tag['fromConcept']['id'])\n",
    "for knowledge_tag in knowledge_tags.values() :\n",
    "    if knowledge_tag['toConcept']['id'] in concept_ids :\n",
    "        continue\n",
    "    concepts.append(knowledge_tag['toConcept'])\n",
    "    concept_ids.append(knowledge_tag['toConcept']['id'])"
   ]
  },
  {
   "cell_type": "code",
   "execution_count": 4,
   "id": "b8f568b4",
   "metadata": {
    "scrolled": true
   },
   "outputs": [
    {
     "data": {
      "text/plain": [
       "1631"
      ]
     },
     "execution_count": 4,
     "metadata": {},
     "output_type": "execute_result"
    }
   ],
   "source": [
    "# 1631개\n",
    "len(concept_ids)"
   ]
  },
  {
   "cell_type": "code",
   "execution_count": 5,
   "id": "4849cfd8",
   "metadata": {},
   "outputs": [],
   "source": [
    "# concept_id_list.json으로 저장\n",
    "with open('./data/json/concept_id_list.json', 'w', encoding='utf-8') as f:\n",
    "    json.dump(concept_ids, f, ensure_ascii=False)"
   ]
  },
  {
   "cell_type": "code",
   "execution_count": 6,
   "id": "ebeeb230",
   "metadata": {},
   "outputs": [],
   "source": [
    "# 퀵정렬에서 비교하는 기준을 1)chapter_id 2)acheivement_id로 설정\n",
    "def quick_sort(arr):\n",
    "    if len(arr) <= 1:\n",
    "        return arr\n",
    "    pivot = arr[len(arr) // 2]\n",
    "    left, right, equal = [], [], []\n",
    "    for i in arr:\n",
    "        if int(i['chapter']['id']) < int(pivot['chapter']['id']):\n",
    "            left.append(i)\n",
    "        elif int(i['chapter']['id']) > int(pivot['chapter']['id']):\n",
    "            right.append(i)\n",
    "        else:\n",
    "            equal.append(i)\n",
    "    # chapter_id가 같은 애들끼리 achievement_id 가지고 다시 정렬\n",
    "    quick_sort_ach(equal)\n",
    "    return quick_sort(left) + equal + quick_sort(right)\n",
    "\n",
    "def quick_sort_ach(arr):\n",
    "    if len(arr) <= 1:\n",
    "        return arr\n",
    "    pivot = arr[len(arr) // 2]\n",
    "    left, right, equal = [], [], []\n",
    "    for i in arr:\n",
    "        if int(i['achievement']['id']) < int(pivot['achievement']['id']):\n",
    "            left.append(i)\n",
    "        elif int(i['achievement']['id']) > int(pivot['achievement']['id']):\n",
    "            right.append(i)\n",
    "        else:\n",
    "            equal.append(i)\n",
    "    return quick_sort(left) + equal + quick_sort(right)"
   ]
  },
  {
   "cell_type": "code",
   "execution_count": 7,
   "id": "bdd609c1",
   "metadata": {},
   "outputs": [],
   "source": [
    "# 정렬된 concepts 리스트\n",
    "concepts_sorted = quick_sort(concepts)"
   ]
  },
  {
   "cell_type": "code",
   "execution_count": 8,
   "id": "af319443",
   "metadata": {},
   "outputs": [],
   "source": [
    "# knowledgeTag_skillID.txt 파일에서 skill_dic으로\n",
    "# (키) concept_id : (밸류) skill_id\n",
    "\n",
    "txt_path = './data/knowledgeTag_skillID.txt'\n",
    "skill_dic = {}\n",
    "with open(txt_path, \"r\") as file:\n",
    "    lines = file.readlines()\n",
    "    for line in lines:\n",
    "        data = line.strip().split('\\t')\n",
    "        skill_dic[int(data[0])] = int(data[1])"
   ]
  },
  {
   "cell_type": "code",
   "execution_count": 9,
   "id": "757b6f6a",
   "metadata": {
    "scrolled": false
   },
   "outputs": [],
   "source": [
    "# tmp01 = [1, 2, 3, 4, 5, 6, 7, 8, 9, 10, 11, 12, 13, 14, 15, 16, 17, 18, 19, 20, 21, 22, 23, 24, 25, 28, 29, 31, 43, 45, 46, 47, 48, 49, 51, 52, 53, 54, 56, 57, 58, 59, 60, 61, 62, 63, 64, 65, 66, 67, 68, 69, 70, 71, 72, 73, 74, 75, 76, 77, 78, 32, 33, 34, 35, 36, 37, 38, 39, 40, 41, 105, 314, 315, 316, 317, 318, 50, 87, 390, 391, 94, 95, 96, 97, 88, 392, 393, 98, 99, 100, 101, 102, 89, 90, 103, 104, 86, 89, 91, 92, 93, 94, 96, 98, 99, 101, 102, 103, 105, 106, 107, 108, 109, 112, 113, 114, 115, 116, 204, 389, 205, 206, 207, 208, 209, 342, 369, 212, 213, 214, 215, 221, 222, 229]\n",
    "# tmp02 = [117, 118, 119, 120, 121, 122, 123, 124, 125, 126, 127, 128, 129, 130, 131, 132, 133, 134, 135, 136, 109, 110, 111, 135, 116, 211, 136, 137, 138, 139, 140, 141, 314, 315, 316, 317, 318, 319, 320, 321, 322, 323, 326, 327, 328, 142, 143, 144, 145, 146, 147, 148, 149, 150, 151, 152, 153, 154, 155, 156, 157, 158, 159, 160, 161, 162, 163, 164, 165, 166, 185, 186, 187, 188, 189, 190, 191, 192, 193, 194, 195, 196, 197, 200, 254, 255, 256, 257, 258, 259, 260, 261, 262, 263, 264, 265, 267, 268, 269, 400]+[167, 168, 169, 170, 171, 172, 173, 198, 199, 200, 170, 174, 175, 176, 177, 178, 179, 180, 181, 182, 183, 184, 201, 202, 203, 204, 205, 206, 207, 208, 209, 183, 210, 211, 212, 213, 214, 215, 216, 217, 218, 219, 221, 222, 223, 224, 225, 226, 227, 228, 229, 324, 325, 326, 327, 328, 338, 348, 358, 359, 360, 367, 375, 377, 378]\n",
    "# tmp03 = [280, 281, 282, 292, 293, 294, 295, 296, 297, 298, 300, 301, 302, 303, 283, 284, 304, 306, 272, 273, 274, 275, 276, 278, 279, 283, 284, 286, 287, 288, 289, 290, 307, 308, 309, 310, 311, 312, 313, 230, 231, 232, 233, 234, 235, 237, 238, 239, 240, 241, 242, 243, 244, 245, 246, 247, 248, 249, 250, 251, 253, 270, 271, 117, 343, 349, 370, 379, 79, 80, 81, 82, 83, 84, 86, 388, 223, 350, 351, 352, 353, 354, 355, 380, 381, 382, 383, 384, 385, 386, 387, 388 , 329, 330, 331, 332, 333, 334, 335, 337, 338, 339, 340, 341, 342, 343, 344, 345, 346, 347, 348, 349, 356, 357, 358, 359, 360, 361, 362, 363, 364, 365, 366, 367, 368, 369, 370, 371, 372, 373, 374, 375, 376, 377, 378,  379]\n",
    "# sec = tmp01 + tmp02 + tmp03 + [291, 336]"
   ]
  },
  {
   "cell_type": "code",
   "execution_count": 10,
   "id": "ba00dd05",
   "metadata": {},
   "outputs": [],
   "source": [
    "# concepts_sort에서 필요한 부분 세분화 시키고, skill_id 추가\n",
    "\n",
    "for concept in concepts_sorted :\n",
    "#     # section에 필요한 id 빠트린 것 없는지 여기서 확인\n",
    "#     if int(concept['achievement']['id']) not in sec:\n",
    "#         print(f\"놓친 id={concept['achievement']['id']}가 있습니다.\")\n",
    "    # semester 한 번 이름 변경 후 사용하기 (순서 맞추기용)\n",
    "    concept['new_key'] = concept.pop('semester')\n",
    "    temp = concept['new_key'].split('-')\n",
    "    concept['school_level'] = temp[0].strip()\n",
    "    concept['grade_level'] = temp[1].strip()\n",
    "    concept['semester'] = temp[2].strip()\n",
    "    del concept['new_key']\n",
    "\n",
    "    concept['chapter_id'] = int(concept['chapter']['id'])\n",
    "    temp2 = concept['chapter']['name'].split('>')\n",
    "    concept['chapter_main']=temp2[0].strip()\n",
    "    concept['chapter_sub']=temp2[1].strip()\n",
    "    if len(temp2)==3:\n",
    "        concept['chapter_subsub']=temp2[2].strip()\n",
    "    else:\n",
    "        concept['chapter_subsub']=\"\"\n",
    "    concept['achievement_id'] = int(concept['achievement']['id'])\n",
    "    concept['achievement_name'] = concept['achievement']['name']\n",
    "    del concept['chapter']\n",
    "    del concept['achievement']\n",
    "    concept['skill_id'] = skill_dic[concept['id']]"
   ]
  },
  {
   "cell_type": "markdown",
   "id": "bbe12f0b",
   "metadata": {},
   "source": [
    "### ㅇ concepts_list.json으로 저장"
   ]
  },
  {
   "cell_type": "code",
   "execution_count": 11,
   "id": "f87bf301",
   "metadata": {},
   "outputs": [
    {
     "data": {
      "text/plain": [
       "{'id': 5814,\n",
       " 'name': '1부터 5까지의 수',\n",
       " 'description': '1부터 5까지의 수를 읽고 셀 수 있다.',\n",
       " 'school_level': '초등',\n",
       " 'grade_level': '초1',\n",
       " 'semester': '1학기',\n",
       " 'chapter_id': 1,\n",
       " 'chapter_main': '9까지의 수',\n",
       " 'chapter_sub': '몇일까요 (1)',\n",
       " 'chapter_subsub': '',\n",
       " 'achievement_id': 1,\n",
       " 'achievement_name': '50까지의수 개념을이해 하고, 수를 세고 읽고 쓸 수 있다.',\n",
       " 'skill_id': 8}"
      ]
     },
     "execution_count": 11,
     "metadata": {},
     "output_type": "execute_result"
    }
   ],
   "source": [
    "# concepts_list.json으로 저장\n",
    "with open('./data/json/concepts_list.json', 'w', encoding='utf-8') as f:\n",
    "    json.dump(concepts_sorted, f, ensure_ascii=False)\n",
    "\n",
    "concepts_sorted[0]"
   ]
  },
  {
   "cell_type": "markdown",
   "id": "6d34d669",
   "metadata": {},
   "source": [
    "### ㅇ insert.sql로 저장"
   ]
  },
  {
   "cell_type": "code",
   "execution_count": 12,
   "id": "b976dc21",
   "metadata": {},
   "outputs": [
    {
     "name": "stdout",
     "output_type": "stream",
     "text": [
      "SQL 문장들 insert_concepts.sql 파일로 저장 성공\n"
     ]
    }
   ],
   "source": [
    "file_path = \"./data/sql/insert_concepts.sql\"\n",
    "\n",
    "with open(file_path, \"w\", encoding='utf-8') as file:\n",
    "    for concept in concepts_sorted :\n",
    "        concept_id = concept['id']\n",
    "        concept_name = concept['name']\n",
    "        description = concept['description']\n",
    "        school_level = concept['school_level']\n",
    "        grade_level = concept['grade_level']\n",
    "        semester = concept['semester']\n",
    "        chapter_id = concept['chapter_id']\n",
    "        chapter_main = concept['chapter_main']\n",
    "        chapter_sub = concept['chapter_sub']\n",
    "        chapter_subsub = concept['chapter_subsub']\n",
    "        achievement_id = concept['achievement_id']\n",
    "        achievement_name = concept['achievement_name']\n",
    "        skill_id = concept['skill_id']\n",
    "        sql = f\"INSERT INTO concepts VALUES ({concept_id}, '{concept_name}', '{description}', '{school_level}', '{grade_level}', '{semester}', {chapter_id}, '{chapter_main}', '{chapter_sub}', '{chapter_subsub}', {achievement_id}, '{achievement_name}', {skill_id});\"\n",
    "        file.write(sql + \"\\n\")\n",
    "\n",
    "print(\"SQL 문장들 insert_concepts.sql 파일로 저장 성공\")"
   ]
  },
  {
   "cell_type": "markdown",
   "id": "dedac924",
   "metadata": {},
   "source": [
    "### ㅇ dic으로 저장"
   ]
  },
  {
   "cell_type": "code",
   "execution_count": 13,
   "id": "f6ae8d04",
   "metadata": {},
   "outputs": [
    {
     "data": {
      "text/plain": [
       "{'name': '1부터 5까지의 수',\n",
       " 'description': '1부터 5까지의 수를 읽고 셀 수 있다.',\n",
       " 'school_level': '초등',\n",
       " 'grade_level': '초1',\n",
       " 'semester': '1학기',\n",
       " 'chapter_id': 1,\n",
       " 'chapter_main': '9까지의 수',\n",
       " 'chapter_sub': '몇일까요 (1)',\n",
       " 'chapter_subsub': '',\n",
       " 'achievement_id': 1,\n",
       " 'achievement_name': '50까지의수 개념을이해 하고, 수를 세고 읽고 쓸 수 있다.',\n",
       " 'skill_id': 8}"
      ]
     },
     "execution_count": 13,
     "metadata": {},
     "output_type": "execute_result"
    }
   ],
   "source": [
    "# dic으로 저장\n",
    "concepts_dict = {}\n",
    "for concept in concepts_sorted :\n",
    "    concepts_dict[concept.pop('id')] = concept\n",
    "    \n",
    "with open('./data/json/concepts_dict.json', 'w', encoding='utf-8') as f:\n",
    "    json.dump(concepts_dict, f, ensure_ascii=False)\n",
    "\n",
    "concepts_dict[5814]"
   ]
  },
  {
   "cell_type": "code",
   "execution_count": null,
   "id": "6996731c",
   "metadata": {},
   "outputs": [],
   "source": []
  },
  {
   "cell_type": "code",
   "execution_count": null,
   "id": "a9707355",
   "metadata": {},
   "outputs": [],
   "source": []
  }
 ],
 "metadata": {
  "kernelspec": {
   "display_name": "Python 3 (ipykernel)",
   "language": "python",
   "name": "python3"
  },
  "language_info": {
   "codemirror_mode": {
    "name": "ipython",
    "version": 3
   },
   "file_extension": ".py",
   "mimetype": "text/x-python",
   "name": "python",
   "nbconvert_exporter": "python",
   "pygments_lexer": "ipython3",
   "version": "3.11.5"
  }
 },
 "nbformat": 4,
 "nbformat_minor": 5
}
