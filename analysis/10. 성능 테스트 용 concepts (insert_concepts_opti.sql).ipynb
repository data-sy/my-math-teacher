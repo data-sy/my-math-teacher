{
 "cells": [
  {
   "cell_type": "markdown",
   "id": "26430c1a",
   "metadata": {},
   "source": [
    "## sql"
   ]
  },
  {
   "cell_type": "code",
   "execution_count": 1,
   "id": "585646a9",
   "metadata": {},
   "outputs": [],
   "source": [
    "import json"
   ]
  },
  {
   "cell_type": "code",
   "execution_count": 2,
   "id": "4c4c15a8",
   "metadata": {},
   "outputs": [],
   "source": [
    "json_path = './data/json/concepts_dict_latex.json'\n",
    "with open(json_path, 'r', encoding='utf-8') as j :\n",
    "    concepts_dict_latex = json.load(j)"
   ]
  },
  {
   "cell_type": "code",
   "execution_count": 3,
   "id": "236a986b",
   "metadata": {},
   "outputs": [
    {
     "name": "stdout",
     "output_type": "stream",
     "text": [
      "SQL 문장들 insert_concepts_opti.sql 파일로 저장 성공\n"
     ]
    }
   ],
   "source": [
    "# insert_concepts_opti.sql\n",
    "\n",
    "file_path = \"../api/sql/insert_concepts_opti.sql\"\n",
    "\n",
    "with open(file_path, \"w\", encoding='utf-8') as file:\n",
    "    for concept_id, concept in concepts_dict_latex.items() :\n",
    "        concept_name = concept['name']\n",
    "        description = concept['description']\n",
    "        concept_chapter_id = concept['concept_chapter_id']\n",
    "        achievement_id = concept['achievement_id']\n",
    "        achievement_name = concept['achievement_name']\n",
    "        concept_raw_id = concept_id\n",
    "        skill_id = concept['skill_id']\n",
    "        sql = f\"INSERT INTO concepts(concept_name, concept_description, concept_chapter_id, concept_achievement_id, concept_achievement_name, concept_raw_id, skill_id) VALUES ('{concept_name}', '{description}', {concept_chapter_id}, {achievement_id}, '{achievement_name}', {concept_id}, {skill_id});\"\n",
    "        file.write(sql + \"\\n\")\n",
    "\n",
    "print(\"SQL 문장들 insert_concepts_opti.sql 파일로 저장 성공\")"
   ]
  },
  {
   "cell_type": "code",
   "execution_count": 5,
   "id": "72b96ccb",
   "metadata": {},
   "outputs": [
    {
     "name": "stdout",
     "output_type": "stream",
     "text": [
      "1631\n"
     ]
    }
   ],
   "source": [
    "print(len(concepts_dict_latex))"
   ]
  },
  {
   "cell_type": "code",
   "execution_count": null,
   "id": "2255d0b7",
   "metadata": {},
   "outputs": [],
   "source": []
  }
 ],
 "metadata": {
  "kernelspec": {
   "display_name": "Python 3 (ipykernel)",
   "language": "python",
   "name": "python3"
  },
  "language_info": {
   "codemirror_mode": {
    "name": "ipython",
    "version": 3
   },
   "file_extension": ".py",
   "mimetype": "text/x-python",
   "name": "python",
   "nbconvert_exporter": "python",
   "pygments_lexer": "ipython3",
   "version": "3.11.5"
  }
 },
 "nbformat": 4,
 "nbformat_minor": 5
}
